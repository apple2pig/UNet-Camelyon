{
 "cells": [
  {
   "cell_type": "markdown",
   "metadata": {},
   "source": [
    "# 定义裁剪图片的函数"
   ]
  },
  {
   "cell_type": "code",
   "execution_count": null,
   "metadata": {},
   "outputs": [],
   "source": [
    "import numpy as np\n",
    "import openslide\n",
    "import xml.etree.ElementTree as ET\n",
    "import cv2\n",
    "\n",
    "\n",
    "def prefect_uniform(img_path, xml_path, save_path, target='train', spilt_size = 512):\n",
    "    # read_img\n",
    "    img_open = openslide.OpenSlide(img_path)\n",
    "    file_name = img_path.split('/')[-1].split('.')[0]\n",
    "    size = img_open.dimensions\n",
    "    mask = np.zeros([size[1], size[0]], dtype=np.uint8)\n",
    "    count = 0\n",
    "\n",
    "    # read_xml\n",
    "    tree = ET.parse(xml_path)\n",
    "    root = tree.getroot()\n",
    "    annotation = root.findall('Annotations/Annotation')\n",
    "    for region in annotation:\n",
    "        point_set1 = []\n",
    "        for point in region.findall('Coordinates/Coordinate'):\n",
    "            x = float(point.attrib['X'])\n",
    "            y = float(point.attrib['Y'])\n",
    "            point_set1.append([x, y])\n",
    "\n",
    "        pts1 = np.asarray([point_set1], dtype=np.int32)\n",
    "        cv2.fillPoly(img=mask, pts=pts1, color=(255, 255, 255))\n",
    "\n",
    "    # compare\n",
    "    for region1 in annotation:\n",
    "        point_mask = np.zeros([size[1], size[0]], dtype=np.uint8)\n",
    "        point_set2 = []\n",
    "        for point in region1.findall('Coordinates/Coordinate'):\n",
    "            x = float(point.attrib['X'])\n",
    "            y = float(point.attrib['Y'])\n",
    "            point_set2.append([x, y])\n",
    "\n",
    "        left_point = min(point_set2, key=lambda a: a[0])[0]\n",
    "        right_point = max(point_set2, key=lambda a: a[0])[0]\n",
    "        bottom_point = min(point_set2, key=lambda a: a[1])[1]\n",
    "        top_point = max(point_set2, key=lambda a: a[1])[1]\n",
    "        mask_size = max(int(right_point - left_point), (int(top_point - bottom_point)))\n",
    "\n",
    "        temp_array = np.array([left_point, bottom_point], dtype=np.int32)\n",
    "        left_point = temp_array[0]\n",
    "        bottom_point = temp_array[1]\n",
    "\n",
    "        pts = np.asarray([point_set2], dtype=np.int32)\n",
    "        cv2.fillPoly(img=point_mask, pts=pts, color=(255, 255, 255))\n",
    "\n",
    "        # 标注尺寸小于512且附近无其他标注则保存\n",
    "        if (mask_size <= 512):\n",
    "\n",
    "            save_img = img_open.read_region(location=(left_point, bottom_point), size=(spilt_size, spilt_size), level=0)\n",
    "            save_img.save(save_path + target + '/' + 'img/' + file_name + '_' + str(count) + '.png')\n",
    "            cv2.imwrite(save_path + target + '/' + 'mask/'+ file_name + '_' + str(count) + '.png',\n",
    "                             point_mask[bottom_point:bottom_point + spilt_size, left_point:left_point + spilt_size])\n",
    "\n",
    "            count += 1\n"
   ]
  },
  {
   "cell_type": "markdown",
   "metadata": {},
   "source": [
    "# 读取图片并裁剪保存"
   ]
  },
  {
   "cell_type": "code",
   "execution_count": null,
   "metadata": {},
   "outputs": [
    {
     "name": "stderr",
     "output_type": "stream",
     "text": [
      "Processing: 100%|\u001b[34m██████████\u001b[0m| 45/45 [01:34<00:00,  2.09s/it, img=378, mask=378]\n"
     ]
    }
   ],
   "source": [
    "import glob\n",
    "from tqdm import tqdm\n",
    "import os\n",
    "\n",
    "\n",
    "num_xml = len(os.listdir('xml path'))\n",
    "save_to = 'patch_path'\n",
    "\n",
    "with tqdm(total=num_xml, desc='Processing', colour='blue') as pbar:\n",
    "    for xml in glob.glob('xml path/*.xml'):\n",
    "        wsi_img = xml.replace('annotations', 'Images').replace('xml', 'tif')\n",
    "        if  os.path.exists(wsi_img):\n",
    "            prefect_uniform(wsi_img, xml, save_to, target='')\n",
    "\n",
    "        len_img = len(os.listdir(save_to + 'img/'))\n",
    "        len_mask = len(os.listdir(save_to + 'mask/'))\n",
    "        pbar.set_postfix(**{\"img\": f\"{len_img}\",\n",
    "                            \"mask\": f\"{len_mask}\"})\n",
    "        pbar.update(1)"
   ]
  },
  {
   "cell_type": "markdown",
   "metadata": {},
   "source": []
  },
  {
   "cell_type": "markdown",
   "metadata": {},
   "source": [
    "# 随机分割训练集和测试集"
   ]
  },
  {
   "cell_type": "code",
   "execution_count": 21,
   "metadata": {},
   "outputs": [
    {
     "name": "stdout",
     "output_type": "stream",
     "text": [
      "273\n",
      "118\n"
     ]
    }
   ],
   "source": [
    "import random\n",
    "import shutil\n",
    "\n",
    "\n",
    "imgs = glob.glob(save_to + 'img/*.png')\n",
    "l = len(imgs)\n",
    "split = 0.7\n",
    "\n",
    "random.shuffle(imgs)\n",
    "\n",
    "for i, img in enumerate(imgs):\n",
    "    mask = img.replace('img', 'mask')\n",
    "    if i < split*l:\n",
    "        shutil.copy(img, save_to + 'train/img/')\n",
    "        shutil.copy(mask, save_to + 'train/mask/')\n",
    "    else:\n",
    "        shutil.copy(img, save_to + 'val/img/')\n",
    "        shutil.copy(mask, save_to + 'val/mask/')\n",
    "\n",
    "print(len(os.listdir(save_to + 'train/img/')))\n",
    "print(len(os.listdir(save_to + 'val/img/')))"
   ]
  },
  {
   "cell_type": "code",
   "execution_count": null,
   "metadata": {},
   "outputs": [],
   "source": []
  }
 ],
 "metadata": {
  "kernelspec": {
   "display_name": "cv",
   "language": "python",
   "name": "python3"
  },
  "language_info": {
   "codemirror_mode": {
    "name": "ipython",
    "version": 3
   },
   "file_extension": ".py",
   "mimetype": "text/x-python",
   "name": "python",
   "nbconvert_exporter": "python",
   "pygments_lexer": "ipython3",
   "version": "3.10.14"
  }
 },
 "nbformat": 4,
 "nbformat_minor": 2
}
